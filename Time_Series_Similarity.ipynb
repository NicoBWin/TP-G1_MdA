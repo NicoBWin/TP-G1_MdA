{
 "cells": [
  {
   "cell_type": "code",
   "execution_count": 2,
   "metadata": {},
   "outputs": [],
   "source": [
    "import pandas as pd\n",
    "import matplotlib.pyplot as plt"
   ]
  },
  {
   "cell_type": "code",
   "execution_count": 3,
   "metadata": {},
   "outputs": [],
   "source": [
    "def get_player_data(csv_name):\n",
    "    # Read the CSV file into a pandas DataFrame\n",
    "    df = pd.read_csv(csv_name)\n",
    "\n",
    "    # Access each column and convert it to a Python list\n",
    "    right_arm = df['Right Arm Angle'].tolist()\n",
    "    full_body = df['Full Body Angle'].tolist()\n",
    "    left_leg = df['Left Leg Angle'].tolist()\n",
    "    time = [i for i in range(len(right_arm))]\n",
    "    data = [time, right_arm, full_body, left_leg]\n",
    "    return data\n",
    "\n",
    "#Load PRO tennis player\n",
    "pro_data = get_player_data('Jugador.csv')\n",
    "#Load USER tennis player\n",
    "user_data = get_player_data('Jugador2.csv')"
   ]
  },
  {
   "cell_type": "code",
   "execution_count": 6,
   "metadata": {},
   "outputs": [],
   "source": [
    "#Create dataframe\n",
    "def get_dataframe(pro_data, user_data):\n",
    "\n",
    "    # Create lists for your data\n",
    "    tennist = [\"Pro\"]*len(pro_data[0]) + [\"User\"]*len(user_data[0])\n",
    "    time = pro_data[0] + user_data[0]\n",
    "    right_arm = pro_data[1] + user_data[1]\n",
    "    full_body = pro_data[2] + user_data[2]\n",
    "    left_leg = pro_data[3] + user_data[3]\n",
    "\n",
    "    # Create a DataFrame by specifying the column names and their corresponding lists\n",
    "    data = {\n",
    "        'Tennist': tennist,\n",
    "        'Time': time,\n",
    "        'Right Arm Angle': right_arm,\n",
    "        'Full Body Angle': full_body,\n",
    "        'Left Leg Angle': left_leg\n",
    "    }\n",
    "\n",
    "    df = pd.DataFrame(data)\n",
    "\n",
    "    # Print the DataFrame\n",
    "    return df\n",
    "\n",
    "data = get_dataframe(pro_data, user_data)\n",
    "\n",
    "#Smoothing\n",
    "# Set the window size for the rolling average\n",
    "window_size = 2  # Adjust this to your desired window size\n",
    "\n",
    "# Specify the columns to smooth\n",
    "columns_to_smooth = ['Right Arm Angle', 'Full Body Angle', 'Left Leg Angle']\n",
    "# Apply the rolling average to specific columns\n",
    "smoothed_data = data.copy()\n",
    "for column in columns_to_smooth:\n",
    "    smoothed_data[column] = smoothed_data[column].rolling(window=window_size).mean()"
   ]
  },
  {
   "cell_type": "code",
   "execution_count": null,
   "metadata": {},
   "outputs": [],
   "source": [
    "#Dinamic Time Warping\n",
    "from dtaidistance import dtw_visualisation as dtwvis\n",
    "\n",
    "fig, ax = plt.subplots(2,1,figsize=(1280/96, 720/96))\n",
    "path = dtw.warping_path(smoothed['Brazil'].values, smoothed['India'].values)\n",
    "dtwvis.plot_warping(smoothed['Brazil'].values, smoothed['India'].values, path, \n",
    "                    fig=fig, axs=ax)\n",
    "ax[0].set_title('DTW Warping Path Between Brazil and India')\n",
    "fig.tight_layout()"
   ]
  }
 ],
 "metadata": {
  "kernelspec": {
   "display_name": "Python 3",
   "language": "python",
   "name": "python3"
  },
  "language_info": {
   "codemirror_mode": {
    "name": "ipython",
    "version": 3
   },
   "file_extension": ".py",
   "mimetype": "text/x-python",
   "name": "python",
   "nbconvert_exporter": "python",
   "pygments_lexer": "ipython3",
   "version": "3.11.2"
  }
 },
 "nbformat": 4,
 "nbformat_minor": 2
}
